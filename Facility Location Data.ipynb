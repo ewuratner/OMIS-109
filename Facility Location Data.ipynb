{
 "cells": [
  {
   "cell_type": "markdown",
   "metadata": {},
   "source": [
    "A large supermarket chain in the UK needs to build warehouses for a set of supermarkets it is opening in Northern England. The locations of the supermarkets have been decided, but the locations of the warehouses are yet to be chosen.\n",
    "\n",
    "Several good candidate locations for the warehouses have been determined, but it remains to decide how many warehouses to open and at which candidate locations to build them.\n",
    "\n",
    "Opening many warehouses would be advantageous as this would reduce the average distance a truck has to drive from warehouse to supermarket, and hence reduce the delivery cost. However, opening a warehouse is costly.\n",
    "\n",
    "We will use Gurobi to find the optimal tradeoff between delivery cost and the cost of building new facilities. The unit delivery cost is propotional to the distance between the two locations. For simplicity, assume the unit delivery cost is the same as the distance between the two locations.\n",
    "\n",
    "Hint: define continuous variables $x_{ij}$ to be the fraction of supply received by supermarket $i$ from location $j$."
   ]
  },
  {
   "cell_type": "code",
   "execution_count": 1,
   "metadata": {},
   "outputs": [],
   "source": [
    "from gurobipy import *\n",
    "import math"
   ]
  },
  {
   "cell_type": "code",
   "execution_count": 2,
   "metadata": {},
   "outputs": [],
   "source": [
    "def distance(a,b):\n",
    "  dx = a[0] - b[0]\n",
    "  dy = a[1] - b[1]\n",
    "  return math.sqrt(dx*dx + dy*dy)"
   ]
  },
  {
   "cell_type": "code",
   "execution_count": 3,
   "metadata": {},
   "outputs": [],
   "source": [
    "# Problem data; clients are the two supermarkets;\n",
    "# facilities are the candidate locations for the warehouses; \n",
    "# charges are the fixed cost of building the warehouse at the chosen facility\n",
    "clients = [[0, 1.5],[2.5, 1.2]]\n",
    "facilities = [[0,0],[0,1],[0,1],\n",
    "              [1,0],[1,1],[1,2],\n",
    "              [2,0],[2,1],[2,2]]\n",
    "charge = [3,2,3,1,3,3,4,3,2]"
   ]
  }
 ],
 "metadata": {
  "kernelspec": {
   "display_name": "Python 3",
   "language": "python",
   "name": "python3"
  },
  "language_info": {
   "codemirror_mode": {
    "name": "ipython",
    "version": 3
   },
   "file_extension": ".py",
   "mimetype": "text/x-python",
   "name": "python",
   "nbconvert_exporter": "python",
   "pygments_lexer": "ipython3",
   "version": "3.7.1"
  }
 },
 "nbformat": 4,
 "nbformat_minor": 2
}
