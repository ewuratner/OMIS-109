{
 "cells": [
  {
   "cell_type": "code",
   "execution_count": 1,
   "metadata": {},
   "outputs": [],
   "source": [
    "from gurobipy import*"
   ]
  },
  {
   "cell_type": "markdown",
   "metadata": {},
   "source": [
    "## Question 3\n",
    "### Direct Marketing, INC"
   ]
  },
  {
   "cell_type": "code",
   "execution_count": 2,
   "metadata": {},
   "outputs": [
    {
     "name": "stdout",
     "output_type": "stream",
     "text": [
      "Using license file c:\\gurobi\\gurobi.lic\n",
      "Academic license - for non-commercial use only\n"
     ]
    }
   ],
   "source": [
    "# Creating the Call model\n",
    "m = Model('Calls')"
   ]
  },
  {
   "cell_type": "code",
   "execution_count": 3,
   "metadata": {},
   "outputs": [],
   "source": [
    "# Adding the three variables\n",
    "D = m.addVar(name='Day')\n",
    "E = m.addVar(name='Evening')\n",
    "W = m.addVar(name='Weekend')"
   ]
  },
  {
   "cell_type": "code",
   "execution_count": 4,
   "metadata": {},
   "outputs": [],
   "source": [
    "# Setting the minimize objective\n",
    "m.setObjective(2*D + 5*E + 3*W, GRB.MINIMIZE)"
   ]
  },
  {
   "cell_type": "code",
   "execution_count": 5,
   "metadata": {},
   "outputs": [],
   "source": [
    "# Adding all of the constraints\n",
    "c1 = m.addConstr(0.3*D + 0.3*E + 0.1*W >= 150, name='Wife')\n",
    "c2 = m.addConstr(0.1*D + 0.3*E + 0.15*W >= 120, name='Husband')\n",
    "c3 = m.addConstr(0.15*D + 20*E + 0.05*W >= 100, name='Single M')\n",
    "c4 = m.addConstr(0.1*D + 0.15*E + 0.1*W >= 110, name = 'Single F')\n",
    "c5 = m.addConstr(E <= 0.5*(D + E + W))\n",
    "c6 = m.addConstr(W >= 0.25*(D + E + W))\n",
    "c7 = m.addConstr(D >= 0)\n",
    "c8 = m.addConstr(E >= 0)\n",
    "c9 = m.addConstr(W >= 0)"
   ]
  },
  {
   "cell_type": "code",
   "execution_count": 6,
   "metadata": {},
   "outputs": [],
   "source": [
    "m.update()"
   ]
  },
  {
   "cell_type": "code",
   "execution_count": 7,
   "metadata": {},
   "outputs": [
    {
     "name": "stdout",
     "output_type": "stream",
     "text": [
      "Gurobi Optimizer version 9.0.3 build v9.0.3rc0 (win64)\n",
      "Optimize a model with 9 rows, 3 columns and 21 nonzeros\n",
      "Model fingerprint: 0x3fe49510\n",
      "Coefficient statistics:\n",
      "  Matrix range     [5e-02, 2e+01]\n",
      "  Objective range  [2e+00, 5e+00]\n",
      "  Bounds range     [0e+00, 0e+00]\n",
      "  RHS range        [1e+02, 2e+02]\n",
      "Presolve removed 3 rows and 0 columns\n",
      "Presolve time: 0.01s\n",
      "Presolved: 6 rows, 3 columns, 18 nonzeros\n",
      "\n",
      "Iteration    Objective       Primal Inf.    Dual Inf.      Time\n",
      "       0    0.0000000e+00   1.672500e+03   0.000000e+00      0s\n",
      "       2    2.4750000e+03   0.000000e+00   0.000000e+00      0s\n",
      "\n",
      "Solved in 2 iterations and 0.01 seconds\n",
      "Optimal objective  2.475000000e+03\n"
     ]
    }
   ],
   "source": [
    "# Displaying the optimal model\n",
    "m.optimize()"
   ]
  },
  {
   "cell_type": "code",
   "execution_count": 8,
   "metadata": {},
   "outputs": [
    {
     "name": "stdout",
     "output_type": "stream",
     "text": [
      "\n",
      "    Variable            X \n",
      "-------------------------\n",
      "         Day          825 \n",
      "     Weekend          275 \n"
     ]
    }
   ],
   "source": [
    "# Optimal Solution\n",
    "m.printAttr('X')"
   ]
  },
  {
   "cell_type": "code",
   "execution_count": 9,
   "metadata": {},
   "outputs": [
    {
     "data": {
      "text/plain": [
       "2475.0"
      ]
     },
     "execution_count": 9,
     "metadata": {},
     "output_type": "execute_result"
    }
   ],
   "source": [
    "# Objective Value\n",
    "m.objVal"
   ]
  },
  {
   "cell_type": "code",
   "execution_count": 10,
   "metadata": {},
   "outputs": [
    {
     "data": {
      "text/plain": [
       "18.0"
      ]
     },
     "execution_count": 10,
     "metadata": {},
     "output_type": "execute_result"
    }
   ],
   "source": [
    "# Allowable increase for Weekend varaible\n",
    "W.SAObjUP"
   ]
  },
  {
   "cell_type": "code",
   "execution_count": 11,
   "metadata": {},
   "outputs": [
    {
     "data": {
      "text/plain": [
       "2.0"
      ]
     },
     "execution_count": 11,
     "metadata": {},
     "output_type": "execute_result"
    }
   ],
   "source": [
    "# Allowable decrease for Weekend variable\n",
    "W.SAObjLow"
   ]
  },
  {
   "cell_type": "code",
   "execution_count": 12,
   "metadata": {},
   "outputs": [
    {
     "data": {
      "text/plain": [
       "0.0"
      ]
     },
     "execution_count": 12,
     "metadata": {},
     "output_type": "execute_result"
    }
   ],
   "source": [
    "# Shadow price for Wife constraint\n",
    "c1.Pi"
   ]
  },
  {
   "cell_type": "code",
   "execution_count": 13,
   "metadata": {},
   "outputs": [
    {
     "data": {
      "text/plain": [
       "275.0"
      ]
     },
     "execution_count": 13,
     "metadata": {},
     "output_type": "execute_result"
    }
   ],
   "source": [
    "# Allowable increase for Wife constraint\n",
    "c1.SARHSUp"
   ]
  },
  {
   "cell_type": "code",
   "execution_count": 14,
   "metadata": {},
   "outputs": [
    {
     "data": {
      "text/plain": [
       "-inf"
      ]
     },
     "execution_count": 14,
     "metadata": {},
     "output_type": "execute_result"
    }
   ],
   "source": [
    "# Allowable decrease for Wife constraint\n",
    "c1.SARHSLow"
   ]
  },
  {
   "cell_type": "markdown",
   "metadata": {},
   "source": [
    "***"
   ]
  },
  {
   "cell_type": "markdown",
   "metadata": {},
   "source": [
    "## Question 4"
   ]
  },
  {
   "cell_type": "code",
   "execution_count": 15,
   "metadata": {},
   "outputs": [],
   "source": [
    "f = Model('Food')"
   ]
  },
  {
   "cell_type": "code",
   "execution_count": 16,
   "metadata": {},
   "outputs": [],
   "source": [
    "Food, Price, Calories, Protein, Fat, Sodium = multidict({'Hamburger':[2.49, 410, 24, 26, 730], 'Chicken':[2.89,420,32,10,1190], 'Hot Dog':[1.50,560,20,32,1800],'Fries':[1.89,380,4,19,270],'Macaroni':[2.09,320,12,10,930],'Pizza':[1.99,320,15,12,820],'Salad':[2.49,320,31,12,1230],'Milk':[0.89,100,8,2.5,125],'Ice Cream':[1.59,330,8,10,180]})"
   ]
  },
  {
   "cell_type": "code",
   "execution_count": 17,
   "metadata": {},
   "outputs": [
    {
     "data": {
      "text/plain": [
       "['Hamburger', 'Chicken', 'Hot Dog', 'Fries', 'Macaroni', 'Pizza', 'Salad', 'Milk', 'Ice Cream']"
      ]
     },
     "execution_count": 17,
     "metadata": {},
     "output_type": "execute_result"
    }
   ],
   "source": [
    "Food"
   ]
  },
  {
   "cell_type": "code",
   "execution_count": 18,
   "metadata": {
    "scrolled": true
   },
   "outputs": [
    {
     "data": {
      "text/plain": [
       "{'Hamburger': 2.49,\n",
       " 'Chicken': 2.89,\n",
       " 'Hot Dog': 1.5,\n",
       " 'Fries': 1.89,\n",
       " 'Macaroni': 2.09,\n",
       " 'Pizza': 1.99,\n",
       " 'Salad': 2.49,\n",
       " 'Milk': 0.89,\n",
       " 'Ice Cream': 1.59}"
      ]
     },
     "execution_count": 18,
     "metadata": {},
     "output_type": "execute_result"
    }
   ],
   "source": [
    "Price"
   ]
  },
  {
   "cell_type": "code",
   "execution_count": 19,
   "metadata": {},
   "outputs": [
    {
     "data": {
      "text/plain": [
       "{'Hamburger': 410,\n",
       " 'Chicken': 420,\n",
       " 'Hot Dog': 560,\n",
       " 'Fries': 380,\n",
       " 'Macaroni': 320,\n",
       " 'Pizza': 320,\n",
       " 'Salad': 320,\n",
       " 'Milk': 100,\n",
       " 'Ice Cream': 330}"
      ]
     },
     "execution_count": 19,
     "metadata": {},
     "output_type": "execute_result"
    }
   ],
   "source": [
    "Calories"
   ]
  },
  {
   "cell_type": "code",
   "execution_count": 20,
   "metadata": {},
   "outputs": [
    {
     "data": {
      "text/plain": [
       "730"
      ]
     },
     "execution_count": 20,
     "metadata": {},
     "output_type": "execute_result"
    }
   ],
   "source": [
    "Sodium['Hamburger']"
   ]
  },
  {
   "cell_type": "code",
   "execution_count": 21,
   "metadata": {},
   "outputs": [],
   "source": [
    "H = f.addVar(name=\"Hamburger\")\n",
    "C = f.addVar(name = 'Chicken')\n",
    "Hd = f.addVar(name = 'Hot Dog')\n",
    "F = f.addVar(name = 'Fries')\n",
    "Mac = f.addVar(name = 'Macaroni')\n",
    "P = f.addVar(name = 'Pizza')\n",
    "S = f.addVar(name = 'Salad')\n",
    "Mlk = f.addVar(name = 'Milk')\n",
    "I = f.addVar(name = 'Ice Cream')"
   ]
  },
  {
   "cell_type": "code",
   "execution_count": 22,
   "metadata": {},
   "outputs": [],
   "source": [
    "f.setObjective(Price['Hamburger']*H+Price['Chicken']*C+Price['Hot Dog']*Hd+Price['Fries']*F+Price['Macaroni']*Mac+Price['Pizza']*P+Price['Salad']*S+Price['Milk']*Mlk+Price['Ice Cream']*I, GRB.MINIMIZE)"
   ]
  },
  {
   "cell_type": "code",
   "execution_count": 23,
   "metadata": {},
   "outputs": [
    {
     "data": {
      "text/plain": [
       "<gurobi.Constr *Awaiting Model Update*>"
      ]
     },
     "execution_count": 23,
     "metadata": {},
     "output_type": "execute_result"
    }
   ],
   "source": [
    "f.addConstr(Calories['Hamburger']*H+Calories['Chicken']*C+Calories['Hot Dog']*Hd+Calories['Fries']*F+Calories['Macaroni']*Mac+Calories['Pizza']*P+Calories['Salad']*S+Calories['Milk']*Mlk+Calories['Ice Cream']*I <= 2200)\n",
    "f.addConstr(Protein['Hamburger']*H+Protein['Chicken']*C+Protein['Hot Dog']*Hd+Protein['Fries']*F+Protein['Macaroni']*Mac+Protein['Pizza']*P+Protein['Salad']*S+Protein['Milk']*Mlk+Protein['Ice Cream']*I >= 91)\n",
    "f.addConstr(Fat['Hamburger']*H+Fat['Chicken']*C+Fat['Hot Dog']*Hd+Fat['Fries']*F+Fat['Macaroni']*Mac+Fat['Pizza']*P+Fat['Salad']*S+Fat['Milk']*Mlk+Fat['Ice Cream']*I <= 65)\n",
    "f.addConstr(Sodium['Hamburger']*H+Sodium['Chicken']*C+Sodium['Hot Dog']*Hd+Sodium['Fries']*F+Sodium['Macaroni']*Mac+Sodium['Pizza']*P+Sodium['Salad']*S+Sodium['Milk']*Mlk+Sodium['Ice Cream']*I <= 1779)\n",
    "f.addConstr(Calories['Hamburger']*H+Calories['Chicken']*C+Calories['Hot Dog']*Hd+Calories['Fries']*F+Calories['Macaroni']*Mac+Calories['Pizza']*P+Calories['Salad']*S+Calories['Milk']*Mlk+Calories['Ice Cream']*I >= 1800)\n",
    "f.addConstr(Fat['Hamburger']*H+Fat['Chicken']*C+Fat['Hot Dog']*Hd+Fat['Fries']*F+Fat['Macaroni']*Mac+Fat['Pizza']*P+Fat['Salad']*S+Fat['Milk']*Mlk+Fat['Ice Cream']*I >= 0)\n",
    "f.addConstr(Sodium['Hamburger']*H+Sodium['Chicken']*C+Sodium['Hot Dog']*Hd+Sodium['Fries']*F+Sodium['Macaroni']*Mac+Sodium['Pizza']*P+Sodium['Salad']*S+Sodium['Milk']*Mlk+Sodium['Ice Cream']*I >= 0)"
   ]
  },
  {
   "cell_type": "code",
   "execution_count": 24,
   "metadata": {},
   "outputs": [],
   "source": [
    "f.update()"
   ]
  },
  {
   "cell_type": "code",
   "execution_count": 25,
   "metadata": {},
   "outputs": [
    {
     "name": "stdout",
     "output_type": "stream",
     "text": [
      "Gurobi Optimizer version 9.0.3 build v9.0.3rc0 (win64)\n",
      "Optimize a model with 7 rows, 9 columns and 63 nonzeros\n",
      "Model fingerprint: 0x79df347b\n",
      "Coefficient statistics:\n",
      "  Matrix range     [3e+00, 2e+03]\n",
      "  Objective range  [9e-01, 3e+00]\n",
      "  Bounds range     [0e+00, 0e+00]\n",
      "  RHS range        [7e+01, 2e+03]\n",
      "Presolve removed 3 rows and 0 columns\n",
      "Presolve time: 0.00s\n",
      "Presolved: 4 rows, 10 columns, 37 nonzeros\n",
      "\n",
      "Iteration    Objective       Primal Inf.    Dual Inf.      Time\n",
      "       0    0.0000000e+00   1.472500e+02   0.000000e+00      0s\n",
      "       4    1.1828861e+01   0.000000e+00   0.000000e+00      0s\n",
      "\n",
      "Solved in 4 iterations and 0.01 seconds\n",
      "Optimal objective  1.182886111e+01\n"
     ]
    }
   ],
   "source": [
    "f.optimize()"
   ]
  },
  {
   "cell_type": "code",
   "execution_count": 26,
   "metadata": {},
   "outputs": [
    {
     "name": "stdout",
     "output_type": "stream",
     "text": [
      "\n",
      "    Variable            X \n",
      "-------------------------\n",
      "   Hamburger     0.604514 \n",
      "        Milk      6.97014 \n",
      "   Ice Cream      2.59132 \n"
     ]
    }
   ],
   "source": [
    "f.printAttr('X')"
   ]
  },
  {
   "cell_type": "code",
   "execution_count": 27,
   "metadata": {},
   "outputs": [
    {
     "data": {
      "text/plain": [
       "1800.00034"
      ]
     },
     "execution_count": 27,
     "metadata": {},
     "output_type": "execute_result"
    }
   ],
   "source": [
    "Calories['Hamburger']*0.604514 + Calories['Milk']* 6.97014 + Calories['Ice Cream']*2.59132"
   ]
  },
  {
   "cell_type": "code",
   "execution_count": 28,
   "metadata": {},
   "outputs": [
    {
     "data": {
      "text/plain": [
       "91.00001599999999"
      ]
     },
     "execution_count": 28,
     "metadata": {},
     "output_type": "execute_result"
    }
   ],
   "source": [
    "Protein['Hamburger']*0.604514 + Protein['Milk']* 6.97014 + Protein['Ice Cream']*2.59132"
   ]
  },
  {
   "cell_type": "code",
   "execution_count": 29,
   "metadata": {},
   "outputs": [
    {
     "data": {
      "text/plain": [
       "59.055914"
      ]
     },
     "execution_count": 29,
     "metadata": {},
     "output_type": "execute_result"
    }
   ],
   "source": [
    "Fat['Hamburger']*0.604514 + Fat['Milk']* 6.97014 + Fat['Ice Cream']*2.59132"
   ]
  },
  {
   "cell_type": "code",
   "execution_count": 30,
   "metadata": {},
   "outputs": [
    {
     "data": {
      "text/plain": [
       "1779.0003199999999"
      ]
     },
     "execution_count": 30,
     "metadata": {},
     "output_type": "execute_result"
    }
   ],
   "source": [
    "Sodium['Hamburger']*0.604514 + Sodium['Milk']* 6.97014 + Sodium['Ice Cream']*2.59132"
   ]
  },
  {
   "cell_type": "code",
   "execution_count": null,
   "metadata": {},
   "outputs": [],
   "source": []
  }
 ],
 "metadata": {
  "kernelspec": {
   "display_name": "Python 3",
   "language": "python",
   "name": "python3"
  },
  "language_info": {
   "codemirror_mode": {
    "name": "ipython",
    "version": 3
   },
   "file_extension": ".py",
   "mimetype": "text/x-python",
   "name": "python",
   "nbconvert_exporter": "python",
   "pygments_lexer": "ipython3",
   "version": "3.7.7"
  }
 },
 "nbformat": 4,
 "nbformat_minor": 4
}
