{
 "cells": [
  {
   "cell_type": "markdown",
   "metadata": {},
   "source": [
    "## Group 7\n",
    "##### Alec Arreola-Coburn, Cici Liu, Philip McCabe, Rishabh Shyamsunder, Elena Wu-Ratner"
   ]
  },
  {
   "cell_type": "markdown",
   "metadata": {},
   "source": [
    "***"
   ]
  },
  {
   "cell_type": "markdown",
   "metadata": {},
   "source": [
    "### Chapter 5, Slide 7 - The BMC Transshipment Problem"
   ]
  },
  {
   "cell_type": "markdown",
   "metadata": {},
   "source": [
    "    Supply 500 > Demand 480, Inflow - Outflow >= Demand/Supply\n",
    "   \n",
    "    Decision variables: Xij for # of shipments from i to j\n",
    "    Objective Function: MIN 30X12 + 40X14 + 50X23 + ...\n",
    "                      : MIN SUM(Cij x Xij)\n",
    "    S.T:\n",
    "        Newark: -X12 - X14 >= -200\n",
    "        Boston: X12 - X23 >= 100\n",
    "        Columbus: X23 + X53 - X35 >= 60\n",
    "        Richmond: X14 + X74 + X54 >= 80\n",
    "        Atlanta: X75 + X65 + X35 - (X53 + X56 + X54) >= 170\n",
    "        Mobile: X56 + X76 - X65 >= 70\n",
    "        J'ville: -X76 - X75 - X74 >= -300"
   ]
  },
  {
   "cell_type": "code",
   "execution_count": 1,
   "metadata": {},
   "outputs": [],
   "source": [
    "# Importing gurobi\n",
    "from gurobipy import *"
   ]
  },
  {
   "cell_type": "code",
   "execution_count": 2,
   "metadata": {},
   "outputs": [],
   "source": [
    "nodes = 7\n",
    "\n",
    "# Creating multidict of paths, cost, and a dict of inflows to use later\n",
    "paths, cost = multidict(\n",
    "{(1,2):30,\n",
    "(1,4):40,\n",
    "(2,3):50,\n",
    "(3,5):35,\n",
    "(5,3):40,\n",
    "(5,4):30,\n",
    "(5,6):35,\n",
    "(6,5):25,\n",
    "(7,6):50,\n",
    "(7,5):45,\n",
    "(7,4):50})\n",
    "\n",
    "inflows = {\n",
    "    (1):200,\n",
    "    (7):300,\n",
    "    (2):-100,\n",
    "    (3):-60,\n",
    "    (4):-80,\n",
    "    (5):-170,\n",
    "    (6):-70,\n",
    "}"
   ]
  },
  {
   "cell_type": "code",
   "execution_count": 3,
   "metadata": {},
   "outputs": [
    {
     "name": "stdout",
     "output_type": "stream",
     "text": [
      "Using license file c:\\gurobi\\gurobi.lic\n",
      "Academic license - for non-commercial use only\n"
     ]
    }
   ],
   "source": [
    "# Creating the model\n",
    "t = Model(\"Transshipment\")"
   ]
  },
  {
   "cell_type": "code",
   "execution_count": 4,
   "metadata": {},
   "outputs": [],
   "source": [
    "# Adding variable to model\n",
    "route = t.addVars(paths, obj=cost, name='route')"
   ]
  },
  {
   "cell_type": "code",
   "execution_count": 5,
   "metadata": {},
   "outputs": [],
   "source": [
    "# Adding constraints to model based on each node and the assigned inflow amount\n",
    "for i in range(1, nodes+1):\n",
    "    t.addConstr(sum(route[i,j] for i,j in paths.select(i,'*'))\n",
    "               -sum(route[j,i] for j,i in paths.select('*',i))\n",
    "                <= inflows[i])"
   ]
  },
  {
   "cell_type": "code",
   "execution_count": 6,
   "metadata": {},
   "outputs": [],
   "source": [
    "t.update()"
   ]
  },
  {
   "cell_type": "code",
   "execution_count": 7,
   "metadata": {},
   "outputs": [
    {
     "name": "stdout",
     "output_type": "stream",
     "text": [
      "Gurobi Optimizer version 9.0.3 build v9.0.3rc0 (win64)\n",
      "Optimize a model with 7 rows, 11 columns and 22 nonzeros\n",
      "Model fingerprint: 0xf91af075\n",
      "Coefficient statistics:\n",
      "  Matrix range     [1e+00, 1e+00]\n",
      "  Objective range  [3e+01, 5e+01]\n",
      "  Bounds range     [0e+00, 0e+00]\n",
      "  RHS range        [6e+01, 3e+02]\n",
      "Presolve removed 1 rows and 1 columns\n",
      "Presolve time: 0.00s\n",
      "Presolved: 6 rows, 10 columns, 20 nonzeros\n",
      "\n",
      "Iteration    Objective       Primal Inf.    Dual Inf.      Time\n",
      "       0    3.0000000e+03   4.750000e+01   0.000000e+00      0s\n",
      "       6    2.2350000e+04   0.000000e+00   0.000000e+00      0s\n",
      "\n",
      "Solved in 6 iterations and 0.01 seconds\n",
      "Optimal objective  2.235000000e+04\n"
     ]
    }
   ],
   "source": [
    "t.optimize()"
   ]
  },
  {
   "cell_type": "code",
   "execution_count": 8,
   "metadata": {},
   "outputs": [
    {
     "name": "stdout",
     "output_type": "stream",
     "text": [
      "The path with the least cost is:\n",
      "1 - 2 : 120.0\n",
      "1 - 4 : 80.0\n",
      "2 - 3 : 20.0\n",
      "5 - 3 : 40.0\n",
      "7 - 6 : 70.0\n",
      "7 - 5 : 210.0\n",
      "Total Cost: 22350.0\n",
      "\n"
     ]
    }
   ],
   "source": [
    "# Printing the results in a clearer way\n",
    "print('The path with the least cost is:')\n",
    "for i,j in paths:\n",
    "    if(route[i,j].x > 0):\n",
    "        print(i,'-', j, \":\", route[i,j].x)\n",
    "print('Total Cost: ' + str(t.objVal))\n",
    "print()"
   ]
  },
  {
   "cell_type": "markdown",
   "metadata": {},
   "source": [
    "***"
   ]
  },
  {
   "cell_type": "markdown",
   "metadata": {},
   "source": [
    "### Chapter 5, Slide 17 - Coal Bank Hollow Recycling Problem"
   ]
  },
  {
   "cell_type": "markdown",
   "metadata": {},
   "source": [
    "    Supply 190 > Demand 150, Inflow - Outflow >= Demand/Supply\n",
    "    \n",
    "    Decision Varaibles: Xij for tons of products from i to j\n",
    "    Objective Function: MIN 13X15 + 12X16 + 11X25 + 13X26...\n",
    "                      : MIN SUM(Cij x Xij)\n",
    "    S.T:\n",
    "        Node 1: -X15 - X16 >= -70\n",
    "        Node 2: -X25 - X26 >= -50\n",
    "        Node 3: -X35 - X36 >= -30\n",
    "        Node 4: -X45 - X46 >= -40\n",
    "        Node 5: 0.9X15 + 0.8X25 + 0.95X35 + 0.75X45 – (X57 + X58 + X59) >= 0\n",
    "        Node 6: 0.85X16 + 0.85X26 _ 0.9X36 + 0.85X46 - (X67 + X68 + X69) >= 0\n",
    "        Node 7: 0.95X57 + 0.9X67 >= 60\n",
    "        Node 8: 0.9X58 + 0.95X68 >= 40\n",
    "        Node 9: 0.9X59 + 0.95X69 >= 50"
   ]
  },
  {
   "cell_type": "code",
   "execution_count": 9,
   "metadata": {},
   "outputs": [],
   "source": [
    "nodes = 9\n",
    "\n",
    "# Creating three lists for each \"area\" the paper goes through\n",
    "origin = [1, 2, 3, 4]\n",
    "trans = [5, 6]\n",
    "demand = [7, 8, 9]\n",
    "\n",
    "# Creating multidict for arcs and cost, and dicts for inflows and inflow percentages\n",
    "arcs, cost = multidict(\n",
    "{(1,5):13,\n",
    "(1,6):12,   \n",
    "(2,5):11,\n",
    "(2,6):13,\n",
    "(3,5):9,\n",
    "(3,6):10,\n",
    "(4,5):13,\n",
    "(4,6):14,\n",
    "(5,7):5,\n",
    "(5,8):6,\n",
    "(5,9):8,\n",
    "(6,7):6,\n",
    "(6,8):8,\n",
    "(6,9):7})\n",
    "\n",
    "inflows = {\n",
    "    (1):70,\n",
    "    (2):50,\n",
    "    (3):30,\n",
    "    (4):40,\n",
    "    (5):0,\n",
    "    (6):0,\n",
    "    (7):60,\n",
    "    (8):40,\n",
    "    (9):50\n",
    "}\n",
    "\n",
    "percentage = {\n",
    "(1,5):0.9,\n",
    "(1,6):0.85,   \n",
    "(2,5):0.8,\n",
    "(2,6):0.85,\n",
    "(3,5):0.95,\n",
    "(3,6):0.9,\n",
    "(4,5):0.75,\n",
    "(4,6):0.85,\n",
    "(5,7):0.95,\n",
    "(5,8):0.9,\n",
    "(5,9):0.9,\n",
    "(6,7):0.9,\n",
    "(6,8):0.95,\n",
    "(6,9):0.95\n",
    "}"
   ]
  },
  {
   "cell_type": "code",
   "execution_count": 10,
   "metadata": {},
   "outputs": [],
   "source": [
    "# Creating model\n",
    "r = Model('Recycling')"
   ]
  },
  {
   "cell_type": "code",
   "execution_count": 11,
   "metadata": {},
   "outputs": [],
   "source": [
    "# Adding variables to the model\n",
    "flow = r.addVars(arcs, obj=cost, name='flow')"
   ]
  },
  {
   "cell_type": "code",
   "execution_count": 12,
   "metadata": {},
   "outputs": [],
   "source": [
    "# Adding constraints for the origin nodes\n",
    "for i in origin:\n",
    "    r.addConstr(sum(flow[i,j] for i,j in arcs.select(i,'*'))\n",
    "                <= inflows[i])"
   ]
  },
  {
   "cell_type": "code",
   "execution_count": 13,
   "metadata": {},
   "outputs": [],
   "source": [
    "# Adding constraints for the middle nodes\n",
    "for i in trans:\n",
    "    r.addConstr(sum(percentage[j,i]*flow[j,i] for j,i in arcs.select('*',i))\n",
    "                -sum(flow[i,j] for i,j in arcs.select(i,'*'))\n",
    "                >= 0)"
   ]
  },
  {
   "cell_type": "code",
   "execution_count": 14,
   "metadata": {},
   "outputs": [],
   "source": [
    "# Adding constraints for the destination nodes\n",
    "for i in demand:\n",
    "    r.addConstr(sum(percentage[j,i]*flow[j,i] for j,i in arcs.select('*',i))\n",
    "                -sum(flow[i,j] for i,j in arcs.select(i,'*'))\n",
    "                >= inflows[i])"
   ]
  },
  {
   "cell_type": "code",
   "execution_count": 15,
   "metadata": {},
   "outputs": [],
   "source": [
    "r.update()"
   ]
  },
  {
   "cell_type": "code",
   "execution_count": 16,
   "metadata": {},
   "outputs": [
    {
     "name": "stdout",
     "output_type": "stream",
     "text": [
      "Gurobi Optimizer version 9.0.3 build v9.0.3rc0 (win64)\n",
      "Optimize a model with 9 rows, 14 columns and 28 nonzeros\n",
      "Model fingerprint: 0x53185c80\n",
      "Coefficient statistics:\n",
      "  Matrix range     [8e-01, 1e+00]\n",
      "  Objective range  [5e+00, 1e+01]\n",
      "  Bounds range     [0e+00, 0e+00]\n",
      "  RHS range        [3e+01, 7e+01]\n",
      "Presolve time: 0.00s\n",
      "Presolved: 9 rows, 14 columns, 28 nonzeros\n",
      "\n",
      "Iteration    Objective       Primal Inf.    Dual Inf.      Time\n",
      "       0    0.0000000e+00   1.500000e+02   0.000000e+00      0s\n",
      "      11    3.1494559e+03   0.000000e+00   0.000000e+00      0s\n",
      "\n",
      "Solved in 11 iterations and 0.01 seconds\n",
      "Optimal objective  3.149455911e+03\n"
     ]
    }
   ],
   "source": [
    "r.optimize()"
   ]
  },
  {
   "cell_type": "code",
   "execution_count": 17,
   "metadata": {},
   "outputs": [
    {
     "name": "stdout",
     "output_type": "stream",
     "text": [
      "The path with the least cost is:\n",
      "1 - 5 : 43.44704353476282\n",
      "1 - 6 : 26.55295646523718\n",
      "2 - 5 : 50.0\n",
      "3 - 5 : 30.0\n",
      "4 - 6 : 35.366548178725665\n",
      "5 - 7 : 63.15789473684211\n",
      "5 - 8 : 44.44444444444444\n",
      "6 - 9 : 52.631578947368425\n",
      "Total Cost: 3149.4559110193786\n",
      "\n"
     ]
    }
   ],
   "source": [
    "# Pringting the path of the least cost\n",
    "print('The path with the least cost is:')\n",
    "for i,j in arcs:\n",
    "    if(flow[i,j].x > 0):\n",
    "        print(i, '-',j, \":\", flow[i,j].x)\n",
    "print('Total Cost: ' + str(r.objVal))\n",
    "print()"
   ]
  }
 ],
 "metadata": {
  "kernelspec": {
   "display_name": "Python 3",
   "language": "python",
   "name": "python3"
  },
  "language_info": {
   "codemirror_mode": {
    "name": "ipython",
    "version": 3
   },
   "file_extension": ".py",
   "mimetype": "text/x-python",
   "name": "python",
   "nbconvert_exporter": "python",
   "pygments_lexer": "ipython3",
   "version": "3.7.7"
  }
 },
 "nbformat": 4,
 "nbformat_minor": 4
}
