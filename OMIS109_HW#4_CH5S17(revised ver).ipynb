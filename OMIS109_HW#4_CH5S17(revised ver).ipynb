{
 "cells": [
  {
   "cell_type": "markdown",
   "metadata": {},
   "source": [
    "## Group 7\n",
    "##### Alec Arreola-Coburn, Cici Liu, Philip McCabe, Rishabh Shyamsunder, Elena Wu-Ratner"
   ]
  },
  {
   "cell_type": "markdown",
   "metadata": {},
   "source": [
    "***"
   ]
  },
  {
   "cell_type": "markdown",
   "metadata": {},
   "source": [
    "### Chapter 5, Slide 7 - The BMC Transshipment Problem"
   ]
  },
  {
   "cell_type": "markdown",
   "metadata": {},
   "source": [
    "    Supply 500 > Demand 480, Inflow - Outflow >= Demand/Supply\n",
    "   \n",
    "    Decision variables: Xij for # of shipments from i to j\n",
    "    Objective Function: MIN 30X12 + 40X14 + 50X23 + ...\n",
    "                      : MIN SUM(Cij x Xij)\n",
    "    S.T:\n",
    "        Newark: X12 + X14 >= 200\n",
    "        Boston: X12 - X 23 >= 100\n",
    "        Columbus: X23 + X 53 - X35 >= 60\n",
    "        Richmond: X14 + X74 + X54 >= 80\n",
    "        Atlanta: X75 + X65 + X35 - (X53 + X56 + X54) >= 170\n",
    "        Mobile: X56 + X76 - X65 >= 70\n",
    "        J'ville: X76 + X75 + X74 >= 300"
   ]
  },
  {
   "cell_type": "code",
   "execution_count": 1,
   "metadata": {},
   "outputs": [],
   "source": [
    "from gurobipy import *\n",
    "#node_names = ['Newark','Boston','Columbus','Richmond','Atlanta','Mobile',\"J'ville\"]\n",
    "#origin = ['Newark',\"J'ville\"]\n",
    "#destination = ['Boston','Columbus','Richmond','Atlanta','Mobile']"
   ]
  },
  {
   "cell_type": "code",
   "execution_count": 2,
   "metadata": {},
   "outputs": [
    {
     "data": {
      "text/plain": [
       "'paths, cost = multidict(\\n{(\\'Newark\\',\\'Boston\\'): 30,\\n(\\'Newark\\',\\'Richmond\\'):40,\\n(\\'Boston\\',\\'Columbus\\'):50,\\n(\\'Columbus\\',\\'Atlanta\\'):35,\\n(\\'Atlanta\\',\\'Columbus\\'):40,\\n(\\'Atlanta\\',\\'Richmond\\'):30,\\n(\\'Atlanta\\',\\'Mobile\\'):35,\\n(\\'Mobile\\',\\'Atlanta\\'):25,\\n(\"J\\'ville\",\\'Richmond\\'):50,\\n(\"J\\'ville\",\\'Atlanta\\'):45,\\n(\"J\\'ville\",\\'Mobile\\'):50})\\n\\nflow = {\\n    (\\'Newark\\'):-200,\\n    (\"J\\'ville\"):-300,\\n    (\\'Boston\\'):100,\\n    (\\'Columbus\\'):60,\\n    (\"Richmond\"):80,\\n    (\\'Atlanta\\'):170,\\n    (\\'Mobile\\'):70,\\n}\\n\\ncapacity = {\\n(\\'Newark\\',\\'Boston\\'): 100,\\n(\\'Newark\\',\\'Richmond\\'):120,\\n(\\'Boston\\',\\'Columbus\\'):160,\\n(\\'Columbus\\',\\'Atlanta\\'):230,\\n(\\'Atlanta\\',\\'Columbus\\'):230,\\n(\\'Atlanta\\',\\'Richmond\\'):250,\\n(\\'Atlanta\\',\\'Mobile\\'):240,\\n(\\'Mobile\\',\\'Atlanta\\'):240,\\n(\"J\\'ville\",\\'Richmond\\'):220,\\n(\"J\\'ville\",\\'Atlanta\\'):130,\\n(\"J\\'ville\",\\'Mobile\\'):230}'"
      ]
     },
     "execution_count": 2,
     "metadata": {},
     "output_type": "execute_result"
    }
   ],
   "source": [
    "\"\"\"paths, cost = multidict(\n",
    "{('Newark','Boston'): 30,\n",
    "('Newark','Richmond'):40,\n",
    "('Boston','Columbus'):50,\n",
    "('Columbus','Atlanta'):35,\n",
    "('Atlanta','Columbus'):40,\n",
    "('Atlanta','Richmond'):30,\n",
    "('Atlanta','Mobile'):35,\n",
    "('Mobile','Atlanta'):25,\n",
    "(\"J'ville\",'Richmond'):50,\n",
    "(\"J'ville\",'Atlanta'):45,\n",
    "(\"J'ville\",'Mobile'):50})\n",
    "\n",
    "flow = {\n",
    "    ('Newark'):-200,\n",
    "    (\"J'ville\"):-300,\n",
    "    ('Boston'):100,\n",
    "    ('Columbus'):60,\n",
    "    (\"Richmond\"):80,\n",
    "    ('Atlanta'):170,\n",
    "    ('Mobile'):70,\n",
    "}\n",
    "\n",
    "capacity = {\n",
    "('Newark','Boston'): 100,\n",
    "('Newark','Richmond'):120,\n",
    "('Boston','Columbus'):160,\n",
    "('Columbus','Atlanta'):230,\n",
    "('Atlanta','Columbus'):230,\n",
    "('Atlanta','Richmond'):250,\n",
    "('Atlanta','Mobile'):240,\n",
    "('Mobile','Atlanta'):240,\n",
    "(\"J'ville\",'Richmond'):220,\n",
    "(\"J'ville\",'Atlanta'):130,\n",
    "(\"J'ville\",'Mobile'):230}\"\"\""
   ]
  },
  {
   "cell_type": "code",
   "execution_count": 2,
   "metadata": {},
   "outputs": [],
   "source": [
    "nodes = 7\n",
    "origin = 1\n",
    "destination = 7\n",
    "#origin = [1,7]\n",
    "#destination = [2,3,4,5,6]\n",
    "\n",
    "paths, cost = multidict(\n",
    "{(1,2):30,\n",
    "(1,4):40,\n",
    "(2,3):50,\n",
    "(3,5):35,\n",
    "(5,3):40,\n",
    "(5,4):30,\n",
    "(5,6):35,\n",
    "(6,5):25,\n",
    "(7,6):50,\n",
    "(7,5):45,\n",
    "(7,4):50})\n",
    "\n",
    "capacity = {\n",
    "    (1):200,\n",
    "    (7):300,\n",
    "    (2):100,\n",
    "    (3):60,\n",
    "    (4):80,\n",
    "    (5):170,\n",
    "    (6):70,\n",
    "}"
   ]
  },
  {
   "cell_type": "code",
   "execution_count": 3,
   "metadata": {},
   "outputs": [
    {
     "ename": "GurobiError",
     "evalue": "License expired 2020-10-14 - license file '/Users/liucathy/gurobi.lic'",
     "output_type": "error",
     "traceback": [
      "\u001b[0;31m---------------------------------------------------------------------------\u001b[0m",
      "\u001b[0;31mGurobiError\u001b[0m                               Traceback (most recent call last)",
      "\u001b[0;32m<ipython-input-3-3885149f1a94>\u001b[0m in \u001b[0;36m<module>\u001b[0;34m\u001b[0m\n\u001b[0;32m----> 1\u001b[0;31m \u001b[0mt\u001b[0m \u001b[0;34m=\u001b[0m \u001b[0mModel\u001b[0m\u001b[0;34m(\u001b[0m\u001b[0;34m\"Transshipment\"\u001b[0m\u001b[0;34m)\u001b[0m\u001b[0;34m\u001b[0m\u001b[0;34m\u001b[0m\u001b[0m\n\u001b[0m",
      "\u001b[0;32mmodel.pxi\u001b[0m in \u001b[0;36mgurobipy.Model.__init__\u001b[0;34m()\u001b[0m\n",
      "\u001b[0;32mmultidict.pxi\u001b[0m in \u001b[0;36mgurobipy.multidict\u001b[0;34m()\u001b[0m\n",
      "\u001b[0;32menv.pxi\u001b[0m in \u001b[0;36mgurobipy.Env.__init__\u001b[0;34m()\u001b[0m\n",
      "\u001b[0;31mGurobiError\u001b[0m: License expired 2020-10-14 - license file '/Users/liucathy/gurobi.lic'"
     ]
    }
   ],
   "source": [
    "t = Model(\"Transshipment\")"
   ]
  },
  {
   "cell_type": "code",
   "execution_count": 5,
   "metadata": {},
   "outputs": [
    {
     "data": {
      "text/plain": [
       "{(1, 2): 30,\n",
       " (1, 4): 40,\n",
       " (2, 3): 50,\n",
       " (3, 5): 35,\n",
       " (5, 3): 40,\n",
       " (5, 4): 30,\n",
       " (5, 6): 35,\n",
       " (6, 5): 25,\n",
       " (7, 6): 50,\n",
       " (7, 5): 45,\n",
       " (7, 4): 50}"
      ]
     },
     "execution_count": 5,
     "metadata": {},
     "output_type": "execute_result"
    }
   ],
   "source": [
    "cost"
   ]
  },
  {
   "cell_type": "code",
   "execution_count": 6,
   "metadata": {},
   "outputs": [],
   "source": [
    "route = t.addVars(paths, obj=cost, name='route')"
   ]
  },
  {
   "cell_type": "code",
   "execution_count": 7,
   "metadata": {},
   "outputs": [
    {
     "ename": "TypeError",
     "evalue": "cannot unpack non-iterable Var object",
     "output_type": "error",
     "traceback": [
      "\u001b[1;31m---------------------------------------------------------------------------\u001b[0m",
      "\u001b[1;31mTypeError\u001b[0m                                 Traceback (most recent call last)",
      "\u001b[1;32m<ipython-input-7-60d7c193732b>\u001b[0m in \u001b[0;36m<module>\u001b[1;34m\u001b[0m\n\u001b[0;32m      1\u001b[0m \u001b[1;32mfor\u001b[0m \u001b[0mi\u001b[0m \u001b[1;32min\u001b[0m \u001b[0mrange\u001b[0m\u001b[1;33m(\u001b[0m\u001b[1;36m1\u001b[0m\u001b[1;33m,\u001b[0m\u001b[0mnodes\u001b[0m\u001b[1;33m+\u001b[0m\u001b[1;36m1\u001b[0m\u001b[1;33m)\u001b[0m\u001b[1;33m:\u001b[0m\u001b[1;33m\u001b[0m\u001b[1;33m\u001b[0m\u001b[0m\n\u001b[1;32m----> 2\u001b[1;33m     t.addConstr(sum(route[i,j] for i,j in route.select(i,'*'))\n\u001b[0m\u001b[0;32m      3\u001b[0m                \u001b[1;33m-\u001b[0m\u001b[0msum\u001b[0m\u001b[1;33m(\u001b[0m\u001b[0mroute\u001b[0m\u001b[1;33m[\u001b[0m\u001b[0mj\u001b[0m\u001b[1;33m,\u001b[0m\u001b[0mi\u001b[0m\u001b[1;33m]\u001b[0m \u001b[1;32mfor\u001b[0m \u001b[0mj\u001b[0m\u001b[1;33m,\u001b[0m\u001b[0mi\u001b[0m \u001b[1;32min\u001b[0m \u001b[0mroute\u001b[0m\u001b[1;33m.\u001b[0m\u001b[0mselect\u001b[0m\u001b[1;33m(\u001b[0m\u001b[1;34m'*'\u001b[0m\u001b[1;33m,\u001b[0m\u001b[0mi\u001b[0m\u001b[1;33m)\u001b[0m\u001b[1;33m)\u001b[0m\u001b[1;33m\u001b[0m\u001b[1;33m\u001b[0m\u001b[0m\n\u001b[0;32m      4\u001b[0m                == (1 if i in origin else -1 if i in destination else 0))\n",
      "\u001b[1;32m<ipython-input-7-60d7c193732b>\u001b[0m in \u001b[0;36m<genexpr>\u001b[1;34m(.0)\u001b[0m\n\u001b[0;32m      1\u001b[0m \u001b[1;32mfor\u001b[0m \u001b[0mi\u001b[0m \u001b[1;32min\u001b[0m \u001b[0mrange\u001b[0m\u001b[1;33m(\u001b[0m\u001b[1;36m1\u001b[0m\u001b[1;33m,\u001b[0m\u001b[0mnodes\u001b[0m\u001b[1;33m+\u001b[0m\u001b[1;36m1\u001b[0m\u001b[1;33m)\u001b[0m\u001b[1;33m:\u001b[0m\u001b[1;33m\u001b[0m\u001b[1;33m\u001b[0m\u001b[0m\n\u001b[1;32m----> 2\u001b[1;33m     t.addConstr(sum(route[i,j] for i,j in route.select(i,'*'))\n\u001b[0m\u001b[0;32m      3\u001b[0m                \u001b[1;33m-\u001b[0m\u001b[0msum\u001b[0m\u001b[1;33m(\u001b[0m\u001b[0mroute\u001b[0m\u001b[1;33m[\u001b[0m\u001b[0mj\u001b[0m\u001b[1;33m,\u001b[0m\u001b[0mi\u001b[0m\u001b[1;33m]\u001b[0m \u001b[1;32mfor\u001b[0m \u001b[0mj\u001b[0m\u001b[1;33m,\u001b[0m\u001b[0mi\u001b[0m \u001b[1;32min\u001b[0m \u001b[0mroute\u001b[0m\u001b[1;33m.\u001b[0m\u001b[0mselect\u001b[0m\u001b[1;33m(\u001b[0m\u001b[1;34m'*'\u001b[0m\u001b[1;33m,\u001b[0m\u001b[0mi\u001b[0m\u001b[1;33m)\u001b[0m\u001b[1;33m)\u001b[0m\u001b[1;33m\u001b[0m\u001b[1;33m\u001b[0m\u001b[0m\n\u001b[0;32m      4\u001b[0m                == (1 if i in origin else -1 if i in destination else 0))\n",
      "\u001b[1;31mTypeError\u001b[0m: cannot unpack non-iterable Var object"
     ]
    }
   ],
   "source": [
    "for i in range(1,nodes+1):\n",
    "    t.addConstr(sum(route[i,j] for i,j in path.select(i,'*'))\n",
    "               -sum(route[j,i] for j,i in path.select('*',i))\n",
    "               == (1 if i == origin else -1 if i == destination else 0))"
   ]
  },
  {
   "cell_type": "code",
   "execution_count": 4,
   "metadata": {},
   "outputs": [
    {
     "ename": "NameError",
     "evalue": "name 't' is not defined",
     "output_type": "error",
     "traceback": [
      "\u001b[0;31m---------------------------------------------------------------------------\u001b[0m",
      "\u001b[0;31mNameError\u001b[0m                                 Traceback (most recent call last)",
      "\u001b[0;32m<ipython-input-4-96af31721d2a>\u001b[0m in \u001b[0;36m<module>\u001b[0;34m\u001b[0m\n\u001b[0;32m----> 1\u001b[0;31m \u001b[0mt\u001b[0m\u001b[0;34m.\u001b[0m\u001b[0moptimize\u001b[0m\u001b[0;34m(\u001b[0m\u001b[0;34m)\u001b[0m\u001b[0;34m\u001b[0m\u001b[0;34m\u001b[0m\u001b[0m\n\u001b[0m",
      "\u001b[0;31mNameError\u001b[0m: name 't' is not defined"
     ]
    }
   ],
   "source": [
    "t.optimize()"
   ]
  },
  {
   "cell_type": "code",
   "execution_count": null,
   "metadata": {},
   "outputs": [],
   "source": [
    "print('The path with the least cost is:')\n",
    "for i,j in path:\n",
    "    if(route[i,j].x > 0):\n",
    "        print(i, j, \":\", route[i,j].x)\n",
    "print('Total Cost: ' + str(t.objVal))\n",
    "print()"
   ]
  },
  {
   "cell_type": "markdown",
   "metadata": {},
   "source": [
    "***"
   ]
  },
  {
   "cell_type": "markdown",
   "metadata": {},
   "source": [
    "### Chapter 5, Slide 17 - Coal Bank Hollow Recycling Problem"
   ]
  },
  {
   "cell_type": "markdown",
   "metadata": {},
   "source": [
    "    Supply 190 > Demand 150, Inflow - Outflow >= Demand/Supply\n",
    "    \n",
    "    Decision Varaibles: Xij\n",
    "    Objective Function: MIN 13X15 + 12X16 + 11X25 + 13X26...\n",
    "                      : MIN SUM(Cij x Xij)\n",
    "    S.T:\n",
    "        Node 1: X15 + X16 >= 70\n",
    "        Node 2: X25 + X26 >= 50\n",
    "        Node 3: X35 + X36 >= 30\n",
    "        Node 4: X45 + X46 >= 40\n",
    "        Node 5: 0.9X15 + 0.8X25 + 0.95X35 + 0.75X45 – (X57 + X58 + X59) >= 0\n",
    "        Node 6: 0.85X16 + 0.85X26 _ 0.9X36 + 0.85X46 - (X67 + X68 + X69) >= 0\n",
    "        Node 7: 0.95X57 + 0.9X67 >= 60\n",
    "        Node 8: 0.9X58 + 0.95X68 >= 40\n",
    "        Node 9: 0.9X59 + 0.95X69 >= 50"
   ]
  },
  {
   "cell_type": "code",
   "execution_count": 18,
   "metadata": {},
   "outputs": [],
   "source": [
    "paper = ['Newspaper','Mixed paper','White office paper','Cardboard']\n",
    "nodes = ['1','2','3','4','5','6']\n",
    "\n",
    "arcs, capacity = multidict({\n",
    "    ('1','5'):0.9,\n",
    "    ('1','6'):0.85,\n",
    "    ('2','5'):0.8,\n",
    "    ('2','6'):0.85,\n",
    "    ('3','5'):0.95,\n",
    "    ('3','6'):0.9,\n",
    "    ('4','5'):0.75,\n",
    "    ('4','6'):0.85\n",
    "})\n",
    "\n",
    "cost = {\n",
    "    ('Newspaper','1','5'): 13,\n",
    "    ('Newspaper','1','6'): 12,\n",
    "    ('Mixed paper','2','5'): 11,\n",
    "    ('Mixed paper','2','6'): 13,\n",
    "    ('White office paper','3','5'): 9,\n",
    "    ('White office paper','3','6'): 10,\n",
    "    ('Cardboard','4','5'): 13,\n",
    "    ('Cardboard','4','6'): 14\n",
    "}\n",
    "\n",
    "inflow = {\n",
    "    ('Newspaper','1'): 70,\n",
    "    ('Newspaper','5'): 0,\n",
    "    ('Newspaper','6'): 0,\n",
    "    ('Mixed paper','2'): 50,\n",
    "    ('Mixed paper','5'): 0,\n",
    "    ('Mixed paper','6'): 0,\n",
    "    ('White office paper','3'): 30,\n",
    "    ('White office paper','5'): 0,\n",
    "    ('White office paper','6'): 0,\n",
    "    ('Cardboard','4'): 40,\n",
    "    ('Cardboard','5'): 0,\n",
    "    ('Cardboard','6'): 0\n",
    "}"
   ]
  },
  {
   "cell_type": "code",
   "execution_count": 19,
   "metadata": {},
   "outputs": [],
   "source": [
    "processes = ['Process 1','Process 2']\n",
    "nodes2 = ['5','6','7','8','9']\n",
    "\n",
    "arcs2, capacity2 = multidict({\n",
    "    ('5','7'):0.95,\n",
    "    ('5','8'):0.9,\n",
    "    ('5','9'):0.9,\n",
    "    ('6','7'):0.9,\n",
    "    ('6','8'):0.95,\n",
    "    ('6','9'):0.95\n",
    "})\n",
    "\n",
    "cost2 = {\n",
    "    ('Process 1','5','7'): 5,\n",
    "    ('Process 1','5','8'): 6,\n",
    "    ('Process 1','5','9'): 8,\n",
    "    ('Process 2','6','7'): 6,\n",
    "    ('Process 2','6','8'): 8,\n",
    "    ('Process 2','6','9'): 7,\n",
    "}\n",
    "\n",
    "inflow2 = {\n",
    "    ('Process 1','5'):0,\n",
    "    ('Process 1','7'):60,\n",
    "    ('Process 1','8'):40,\n",
    "    ('Process 1','9'):50,\n",
    "    ('Process 2','6'):0,\n",
    "    ('Process 2','7'):60,\n",
    "    ('Process 2','8'):40,\n",
    "    ('Process 2','9'):50,\n",
    "}"
   ]
  },
  {
   "cell_type": "code",
   "execution_count": 20,
   "metadata": {},
   "outputs": [],
   "source": [
    "r = Model('Recycling')"
   ]
  },
  {
   "cell_type": "code",
   "execution_count": 21,
   "metadata": {},
   "outputs": [],
   "source": [
    "flow = r.addVars(paper, arcs, obj=cost, name='flow')"
   ]
  },
  {
   "cell_type": "code",
   "execution_count": 22,
   "metadata": {
    "scrolled": true
   },
   "outputs": [
    {
     "data": {
      "text/plain": [
       "{('Newspaper', '1', '5'): <gurobi.Var *Awaiting Model Update*>,\n",
       " ('Newspaper', '1', '6'): <gurobi.Var *Awaiting Model Update*>,\n",
       " ('Newspaper', '2', '5'): <gurobi.Var *Awaiting Model Update*>,\n",
       " ('Newspaper', '2', '6'): <gurobi.Var *Awaiting Model Update*>,\n",
       " ('Newspaper', '3', '5'): <gurobi.Var *Awaiting Model Update*>,\n",
       " ('Newspaper', '3', '6'): <gurobi.Var *Awaiting Model Update*>,\n",
       " ('Newspaper', '4', '5'): <gurobi.Var *Awaiting Model Update*>,\n",
       " ('Newspaper', '4', '6'): <gurobi.Var *Awaiting Model Update*>,\n",
       " ('Mixed paper', '1', '5'): <gurobi.Var *Awaiting Model Update*>,\n",
       " ('Mixed paper', '1', '6'): <gurobi.Var *Awaiting Model Update*>,\n",
       " ('Mixed paper', '2', '5'): <gurobi.Var *Awaiting Model Update*>,\n",
       " ('Mixed paper', '2', '6'): <gurobi.Var *Awaiting Model Update*>,\n",
       " ('Mixed paper', '3', '5'): <gurobi.Var *Awaiting Model Update*>,\n",
       " ('Mixed paper', '3', '6'): <gurobi.Var *Awaiting Model Update*>,\n",
       " ('Mixed paper', '4', '5'): <gurobi.Var *Awaiting Model Update*>,\n",
       " ('Mixed paper', '4', '6'): <gurobi.Var *Awaiting Model Update*>,\n",
       " ('White office paper', '1', '5'): <gurobi.Var *Awaiting Model Update*>,\n",
       " ('White office paper', '1', '6'): <gurobi.Var *Awaiting Model Update*>,\n",
       " ('White office paper', '2', '5'): <gurobi.Var *Awaiting Model Update*>,\n",
       " ('White office paper', '2', '6'): <gurobi.Var *Awaiting Model Update*>,\n",
       " ('White office paper', '3', '5'): <gurobi.Var *Awaiting Model Update*>,\n",
       " ('White office paper', '3', '6'): <gurobi.Var *Awaiting Model Update*>,\n",
       " ('White office paper', '4', '5'): <gurobi.Var *Awaiting Model Update*>,\n",
       " ('White office paper', '4', '6'): <gurobi.Var *Awaiting Model Update*>,\n",
       " ('Cardboard', '1', '5'): <gurobi.Var *Awaiting Model Update*>,\n",
       " ('Cardboard', '1', '6'): <gurobi.Var *Awaiting Model Update*>,\n",
       " ('Cardboard', '2', '5'): <gurobi.Var *Awaiting Model Update*>,\n",
       " ('Cardboard', '2', '6'): <gurobi.Var *Awaiting Model Update*>,\n",
       " ('Cardboard', '3', '5'): <gurobi.Var *Awaiting Model Update*>,\n",
       " ('Cardboard', '3', '6'): <gurobi.Var *Awaiting Model Update*>,\n",
       " ('Cardboard', '4', '5'): <gurobi.Var *Awaiting Model Update*>,\n",
       " ('Cardboard', '4', '6'): <gurobi.Var *Awaiting Model Update*>}"
      ]
     },
     "execution_count": 22,
     "metadata": {},
     "output_type": "execute_result"
    }
   ],
   "source": [
    "flow"
   ]
  },
  {
   "cell_type": "code",
   "execution_count": 23,
   "metadata": {},
   "outputs": [
    {
     "data": {
      "text/plain": [
       "{('1', '5'): <gurobi.Constr *Awaiting Model Update*>,\n",
       " ('1', '6'): <gurobi.Constr *Awaiting Model Update*>,\n",
       " ('2', '5'): <gurobi.Constr *Awaiting Model Update*>,\n",
       " ('2', '6'): <gurobi.Constr *Awaiting Model Update*>,\n",
       " ('3', '5'): <gurobi.Constr *Awaiting Model Update*>,\n",
       " ('3', '6'): <gurobi.Constr *Awaiting Model Update*>,\n",
       " ('4', '5'): <gurobi.Constr *Awaiting Model Update*>,\n",
       " ('4', '6'): <gurobi.Constr *Awaiting Model Update*>}"
      ]
     },
     "execution_count": 23,
     "metadata": {},
     "output_type": "execute_result"
    }
   ],
   "source": [
    "# Capacity constraints..?\n",
    "r.addConstrs(\n",
    "    (flow.sum('*',i,j) <= capacity[i,j] for i,j in arcs),'cap')"
   ]
  },
  {
   "cell_type": "code",
   "execution_count": 24,
   "metadata": {},
   "outputs": [
    {
     "data": {
      "text/plain": [
       "{('Newspaper', '5'): <gurobi.Constr *Awaiting Model Update*>,\n",
       " ('Newspaper', '6'): <gurobi.Constr *Awaiting Model Update*>,\n",
       " ('Mixed paper', '5'): <gurobi.Constr *Awaiting Model Update*>,\n",
       " ('Mixed paper', '6'): <gurobi.Constr *Awaiting Model Update*>,\n",
       " ('White office paper', '5'): <gurobi.Constr *Awaiting Model Update*>,\n",
       " ('White office paper', '6'): <gurobi.Constr *Awaiting Model Update*>,\n",
       " ('Cardboard', '5'): <gurobi.Constr *Awaiting Model Update*>,\n",
       " ('Cardboard', '6'): <gurobi.Constr *Awaiting Model Update*>}"
      ]
     },
     "execution_count": 24,
     "metadata": {},
     "output_type": "execute_result"
    }
   ],
   "source": [
    "# Flow conservation constraints...?\n",
    "r.addConstrs(\n",
    "    (flow.sum(h,'*',j) + inflow[h,j] == flow.sum(h,j,'*')\n",
    "    for h in paper for j in nodes[4:]), 'node')"
   ]
  },
  {
   "cell_type": "code",
   "execution_count": 25,
   "metadata": {},
   "outputs": [],
   "source": [
    "flow2 = r.addVars(processes, arcs2, obj=cost2, name='flow2')"
   ]
  },
  {
   "cell_type": "code",
   "execution_count": 26,
   "metadata": {},
   "outputs": [
    {
     "data": {
      "text/plain": [
       "{('5', '7'): <gurobi.Constr *Awaiting Model Update*>,\n",
       " ('5', '8'): <gurobi.Constr *Awaiting Model Update*>,\n",
       " ('5', '9'): <gurobi.Constr *Awaiting Model Update*>,\n",
       " ('6', '7'): <gurobi.Constr *Awaiting Model Update*>,\n",
       " ('6', '8'): <gurobi.Constr *Awaiting Model Update*>,\n",
       " ('6', '9'): <gurobi.Constr *Awaiting Model Update*>}"
      ]
     },
     "execution_count": 26,
     "metadata": {},
     "output_type": "execute_result"
    }
   ],
   "source": [
    "r.addConstrs(\n",
    "    (flow2.sum('*',i,j) <= capacity2[i,j] for i,j in arcs2), 'cap2')"
   ]
  },
  {
   "cell_type": "code",
   "execution_count": 27,
   "metadata": {},
   "outputs": [
    {
     "data": {
      "text/plain": [
       "{('Process 1', '7'): <gurobi.Constr *Awaiting Model Update*>,\n",
       " ('Process 1', '8'): <gurobi.Constr *Awaiting Model Update*>,\n",
       " ('Process 1', '9'): <gurobi.Constr *Awaiting Model Update*>,\n",
       " ('Process 2', '7'): <gurobi.Constr *Awaiting Model Update*>,\n",
       " ('Process 2', '8'): <gurobi.Constr *Awaiting Model Update*>,\n",
       " ('Process 2', '9'): <gurobi.Constr *Awaiting Model Update*>}"
      ]
     },
     "execution_count": 27,
     "metadata": {},
     "output_type": "execute_result"
    }
   ],
   "source": [
    "r.addConstrs(\n",
    "    (flow2.sum(h,'*',j) + inflow2[h,j] == flow2.sum(h,j,'*')\n",
    "    for h in processes for j in nodes2[2:]), 'node2')"
   ]
  },
  {
   "cell_type": "code",
   "execution_count": 28,
   "metadata": {},
   "outputs": [],
   "source": [
    "r.update()"
   ]
  },
  {
   "cell_type": "code",
   "execution_count": 29,
   "metadata": {},
   "outputs": [
    {
     "name": "stdout",
     "output_type": "stream",
     "text": [
      "Gurobi Optimizer version 9.0.3 build v9.0.3rc0 (win64)\n",
      "Optimize a model with 28 rows, 44 columns and 88 nonzeros\n",
      "Model fingerprint: 0x0d9139a1\n",
      "Coefficient statistics:\n",
      "  Matrix range     [1e+00, 1e+00]\n",
      "  Objective range  [5e+00, 1e+01]\n",
      "  Bounds range     [0e+00, 0e+00]\n",
      "  RHS range        [8e-01, 6e+01]\n",
      "Presolve removed 16 rows and 32 columns\n",
      "Presolve time: 0.01s\n",
      "\n",
      "Solved in 0 iterations and 0.01 seconds\n",
      "Infeasible model\n"
     ]
    }
   ],
   "source": [
    "r.optimize()"
   ]
  },
  {
   "cell_type": "code",
   "execution_count": null,
   "metadata": {},
   "outputs": [],
   "source": []
  }
 ],
 "metadata": {
  "kernelspec": {
   "display_name": "Python 3",
   "language": "python",
   "name": "python3"
  },
  "language_info": {
   "codemirror_mode": {
    "name": "ipython",
    "version": 3
   },
   "file_extension": ".py",
   "mimetype": "text/x-python",
   "name": "python",
   "nbconvert_exporter": "python",
   "pygments_lexer": "ipython3",
   "version": "3.7.3"
  }
 },
 "nbformat": 4,
 "nbformat_minor": 4
}
